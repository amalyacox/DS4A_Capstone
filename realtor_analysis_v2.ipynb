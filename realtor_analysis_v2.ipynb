{
 "cells": [
  {
   "cell_type": "markdown",
   "metadata": {},
   "source": [
    "#### Notebook to analyze realtor.com dataset, and create pre and post covid dataframes"
   ]
  },
  {
   "cell_type": "markdown",
   "metadata": {},
   "source": [
    "realtor data sourced from: https://www.realtor.com/research/data."
   ]
  },
  {
   "cell_type": "code",
   "execution_count": 1,
   "metadata": {},
   "outputs": [],
   "source": [
    "import pandas as pd\n",
    "import numpy as np\n",
    "from scipy.optimize import curve_fit as curve_fit\n",
    "import datetime as dt\n",
    "import matplotlib.pyplot as plt"
   ]
  },
  {
   "cell_type": "code",
   "execution_count": 2,
   "metadata": {},
   "outputs": [],
   "source": [
    "df = pd.read_csv('realtor_clean.csv')"
   ]
  },
  {
   "cell_type": "code",
   "execution_count": 3,
   "metadata": {},
   "outputs": [],
   "source": [
    "def add_year(df):\n",
    "    \"\"\" Add Year column\"\"\"\n",
    "    if 'Year' not in df.columns:\n",
    "        df['Date'] = pd.to_datetime(df['Date'])\n",
    "\n",
    "def linear(x, m, b):\n",
    "    return m*x + b\n",
    "\n",
    "add_year(df)"
   ]
  },
  {
   "cell_type": "code",
   "execution_count": 4,
   "metadata": {},
   "outputs": [],
   "source": [
    "pre_covid_realtor = df[df['Date'] < '2020-03-01']\n",
    "post_covid_realtor = df[df['Date'] >= '2020-03-01']"
   ]
  },
  {
   "cell_type": "code",
   "execution_count": 5,
   "metadata": {},
   "outputs": [
    {
     "data": {
      "text/html": [
       "<div>\n",
       "<style scoped>\n",
       "    .dataframe tbody tr th:only-of-type {\n",
       "        vertical-align: middle;\n",
       "    }\n",
       "\n",
       "    .dataframe tbody tr th {\n",
       "        vertical-align: top;\n",
       "    }\n",
       "\n",
       "    .dataframe thead th {\n",
       "        text-align: right;\n",
       "    }\n",
       "</style>\n",
       "<table border=\"1\" class=\"dataframe\">\n",
       "  <thead>\n",
       "    <tr style=\"text-align: right;\">\n",
       "      <th></th>\n",
       "      <th>month_date_yyyymm</th>\n",
       "      <th>postal_code</th>\n",
       "      <th>average_listing_price</th>\n",
       "      <th>Date</th>\n",
       "    </tr>\n",
       "  </thead>\n",
       "  <tbody>\n",
       "    <tr>\n",
       "      <th>0</th>\n",
       "      <td>202111</td>\n",
       "      <td>94109</td>\n",
       "      <td>2.226320e+06</td>\n",
       "      <td>2021-11-01</td>\n",
       "    </tr>\n",
       "    <tr>\n",
       "      <th>1</th>\n",
       "      <td>202111</td>\n",
       "      <td>94111</td>\n",
       "      <td>1.308000e+06</td>\n",
       "      <td>2021-11-01</td>\n",
       "    </tr>\n",
       "    <tr>\n",
       "      <th>2</th>\n",
       "      <td>202111</td>\n",
       "      <td>94102</td>\n",
       "      <td>9.861155e+05</td>\n",
       "      <td>2021-11-01</td>\n",
       "    </tr>\n",
       "    <tr>\n",
       "      <th>3</th>\n",
       "      <td>202111</td>\n",
       "      <td>94110</td>\n",
       "      <td>1.485246e+06</td>\n",
       "      <td>2021-11-01</td>\n",
       "    </tr>\n",
       "    <tr>\n",
       "      <th>4</th>\n",
       "      <td>202111</td>\n",
       "      <td>94133</td>\n",
       "      <td>2.217766e+06</td>\n",
       "      <td>2021-11-01</td>\n",
       "    </tr>\n",
       "    <tr>\n",
       "      <th>...</th>\n",
       "      <td>...</td>\n",
       "      <td>...</td>\n",
       "      <td>...</td>\n",
       "      <td>...</td>\n",
       "    </tr>\n",
       "    <tr>\n",
       "      <th>508</th>\n",
       "      <td>202003</td>\n",
       "      <td>94111</td>\n",
       "      <td>1.601897e+06</td>\n",
       "      <td>2020-03-01</td>\n",
       "    </tr>\n",
       "    <tr>\n",
       "      <th>509</th>\n",
       "      <td>202003</td>\n",
       "      <td>94121</td>\n",
       "      <td>2.372981e+06</td>\n",
       "      <td>2020-03-01</td>\n",
       "    </tr>\n",
       "    <tr>\n",
       "      <th>510</th>\n",
       "      <td>202003</td>\n",
       "      <td>94109</td>\n",
       "      <td>2.690649e+06</td>\n",
       "      <td>2020-03-01</td>\n",
       "    </tr>\n",
       "    <tr>\n",
       "      <th>511</th>\n",
       "      <td>202003</td>\n",
       "      <td>94132</td>\n",
       "      <td>1.591372e+06</td>\n",
       "      <td>2020-03-01</td>\n",
       "    </tr>\n",
       "    <tr>\n",
       "      <th>512</th>\n",
       "      <td>202003</td>\n",
       "      <td>94115</td>\n",
       "      <td>7.086418e+06</td>\n",
       "      <td>2020-03-01</td>\n",
       "    </tr>\n",
       "  </tbody>\n",
       "</table>\n",
       "<p>513 rows × 4 columns</p>\n",
       "</div>"
      ],
      "text/plain": [
       "     month_date_yyyymm  postal_code  average_listing_price       Date\n",
       "0               202111        94109           2.226320e+06 2021-11-01\n",
       "1               202111        94111           1.308000e+06 2021-11-01\n",
       "2               202111        94102           9.861155e+05 2021-11-01\n",
       "3               202111        94110           1.485246e+06 2021-11-01\n",
       "4               202111        94133           2.217766e+06 2021-11-01\n",
       "..                 ...          ...                    ...        ...\n",
       "508             202003        94111           1.601897e+06 2020-03-01\n",
       "509             202003        94121           2.372981e+06 2020-03-01\n",
       "510             202003        94109           2.690649e+06 2020-03-01\n",
       "511             202003        94132           1.591372e+06 2020-03-01\n",
       "512             202003        94115           7.086418e+06 2020-03-01\n",
       "\n",
       "[513 rows x 4 columns]"
      ]
     },
     "execution_count": 5,
     "metadata": {},
     "output_type": "execute_result"
    }
   ],
   "source": [
    "pre_covid_realtor = df[df['Date'] < '2020-03-01']\n",
    "post_covid_realtor = df[df['Date'] >= '2020-03-01']\n",
    "post_covid_realtor"
   ]
  },
  {
   "cell_type": "code",
   "execution_count": 6,
   "metadata": {},
   "outputs": [],
   "source": [
    "perc_change = []\n",
    "df = post_covid_realtor\n",
    "for zipcode in (np.unique(df['postal_code'])):\n",
    "    first = min(df[df['postal_code'] == zipcode]['Date'])\n",
    "    last = max(df[df['postal_code'] == zipcode]['Date'])\n",
    "    zip_df = df[df['postal_code'] == zipcode]\n",
    "    first = int(zip_df.loc[zip_df['Date'] == first]['average_listing_price'])\n",
    "    last = int(zip_df.loc[zip_df['Date'] == last]['average_listing_price'])\n",
    "    perc_change.append((last - first)/first * 100)\n",
    "perc_change = pd.DataFrame({'postal_code':np.unique(df['postal_code']), 'percent_change':perc_change})\n",
    "perc_change.to_csv('post_covid_realtor_perc_change_df.csv')"
   ]
  },
  {
   "cell_type": "code",
   "execution_count": 7,
   "metadata": {},
   "outputs": [],
   "source": [
    "df = post_covid_realtor\n",
    "lin_df = df.groupby(['postal_code', 'Date']).sum().unstack(level=0)['average_listing_price']"
   ]
  },
  {
   "cell_type": "markdown",
   "metadata": {},
   "source": [
    "#### Fit a line to median listing price vs. time for each zipcode  "
   ]
  },
  {
   "cell_type": "code",
   "execution_count": 8,
   "metadata": {},
   "outputs": [],
   "source": [
    "m_arr = []\n",
    "b_arr = []\n",
    "m_err_arr = []\n",
    "b_err_arr = []\n",
    "for col in lin_df.columns:\n",
    "    temp = lin_df[col].dropna()\n",
    "    temp.index = pd.to_datetime(temp.index)\n",
    "    temp.index = temp.index.map(dt.datetime.toordinal)\n",
    "    x = list(temp.index)\n",
    "    y = temp.values\n",
    "    popt, pcov = curve_fit(linear, x, y)\n",
    "    perr = np.sqrt(np.diag(pcov))\n",
    "    m, b = popt\n",
    "    m_arr.append(m)\n",
    "    b_arr.append(b)\n",
    "    m_err_arr.append(perr[0])\n",
    "    b_err_arr.append(perr[1])\n",
    "\n",
    "fit_df = pd.DataFrame({'postal_code':lin_df.columns, 'slope($_per_month)':m_arr, 'intercept':b_arr,\n",
    "                      'slope_err':m_err_arr, 'intercept_err':b_err_arr})\n",
    "fit_df.to_csv(\"post_covid_realtor_rate_change.csv\")"
   ]
  },
  {
   "cell_type": "code",
   "execution_count": 9,
   "metadata": {},
   "outputs": [],
   "source": [
    "fit_df = pd.DataFrame({'postal_code':lin_df.columns, 'slope($_per_month)':m_arr, 'intercept':b_arr,\n",
    "                      'slope_err':m_err_arr, 'intercept_err':b_err_arr})\n",
    "fit_df.to_csv(\"post_covid_realtor_rate_change.csv\")"
   ]
  },
  {
   "cell_type": "markdown",
   "metadata": {},
   "source": [
    "#### Look at one zipcode"
   ]
  },
  {
   "cell_type": "code",
   "execution_count": 10,
   "metadata": {},
   "outputs": [
    {
     "data": {
      "text/plain": [
       "<matplotlib.legend.Legend at 0x7fbc454b7670>"
      ]
     },
     "execution_count": 10,
     "metadata": {},
     "output_type": "execute_result"
    },
    {
     "data": {
      "image/png": "[encoded data removed]",
      "text/plain": [
       "<Figure size 432x288 with 1 Axes>"
      ]
     },
     "metadata": {
      "needs_background": "light"
     },
     "output_type": "display_data"
    }
   ],
   "source": [
    "lin_df = df.groupby(['postal_code', 'Date']).sum().unstack(level=0)['average_listing_price']\n",
    "\n",
    "temp = lin_df[94102]\n",
    "temp.index = pd.to_datetime(temp.index)\n",
    "temp.index = temp.index.map(dt.datetime.toordinal)\n",
    "\n",
    "m = float(fit_df.loc[fit_df['postal_code'] == 94102]['slope($_per_month)'])\n",
    "b = float(fit_df.loc[fit_df['postal_code'] == 94102]['intercept'])\n",
    "plt.plot(temp.index, linear(temp.index, m, b), label='linear fit')\n",
    "plt.plot(temp.index, temp.values, label='94102')\n",
    "plt.xlabel(' \\\"ordinal\" time ... conversion of date to numerical value ')\n",
    "plt.ylabel('average listing price')\n",
    "plt.legend()"
   ]
  },
  {
   "cell_type": "code",
   "execution_count": 11,
   "metadata": {},
   "outputs": [],
   "source": [
    "fit_df.to_csv('realtor_data_fitted_vals.csv')"
   ]
  }
 ],
 "metadata": {
  "kernelspec": {
   "display_name": "Python 3",
   "language": "python",
   "name": "python3"
  },
  "language_info": {
   "codemirror_mode": {
    "name": "ipython",
    "version": 3
   },
   "file_extension": ".py",
   "mimetype": "text/x-python",
   "name": "python",
   "nbconvert_exporter": "python",
   "pygments_lexer": "ipython3",
   "version": "3.8.3"
  }
 },
 "nbformat": 4,
 "nbformat_minor": 4
}
